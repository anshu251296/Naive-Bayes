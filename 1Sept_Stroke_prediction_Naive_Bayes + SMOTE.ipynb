{
 "cells": [
  {
   "cell_type": "code",
   "execution_count": 86,
   "id": "12b7276f",
   "metadata": {},
   "outputs": [],
   "source": [
    "import numpy as np\n",
    "import pandas as pd\n",
    "import matplotlib.pyplot as plt\n",
    "from sklearn.model_selection import train_test_split\n",
    "from sklearn.metrics import confusion_matrix,classification_report,accuracy_score,precision_score,recall_score"
   ]
  },
  {
   "cell_type": "code",
   "execution_count": 71,
   "id": "4a004c23",
   "metadata": {},
   "outputs": [],
   "source": [
    "from sklearn.linear_model import LogisticRegression\n",
    "from sklearn.tree import DecisionTreeClassifier\n",
    "from sklearn.ensemble import RandomForestClassifier,AdaBoostClassifier\n",
    "from sklearn.neighbors import KNeighborsClassifier\n",
    "from xgboost import XGBClassifier\n",
    "from sklearn.naive_bayes import GaussianNB, MultinomialNB\n",
    "from sklearn.svm import SVC"
   ]
  },
  {
   "cell_type": "code",
   "execution_count": 12,
   "id": "c15a655b",
   "metadata": {},
   "outputs": [
    {
     "data": {
      "text/html": [
       "<div>\n",
       "<style scoped>\n",
       "    .dataframe tbody tr th:only-of-type {\n",
       "        vertical-align: middle;\n",
       "    }\n",
       "\n",
       "    .dataframe tbody tr th {\n",
       "        vertical-align: top;\n",
       "    }\n",
       "\n",
       "    .dataframe thead th {\n",
       "        text-align: right;\n",
       "    }\n",
       "</style>\n",
       "<table border=\"1\" class=\"dataframe\">\n",
       "  <thead>\n",
       "    <tr style=\"text-align: right;\">\n",
       "      <th></th>\n",
       "      <th>id</th>\n",
       "      <th>gender</th>\n",
       "      <th>age</th>\n",
       "      <th>hypertension</th>\n",
       "      <th>heart_disease</th>\n",
       "      <th>ever_married</th>\n",
       "      <th>work_type</th>\n",
       "      <th>Residence_type</th>\n",
       "      <th>avg_glucose_level</th>\n",
       "      <th>bmi</th>\n",
       "      <th>smoking_status</th>\n",
       "      <th>stroke</th>\n",
       "    </tr>\n",
       "  </thead>\n",
       "  <tbody>\n",
       "    <tr>\n",
       "      <th>0</th>\n",
       "      <td>9046</td>\n",
       "      <td>Male</td>\n",
       "      <td>67.0</td>\n",
       "      <td>0</td>\n",
       "      <td>1</td>\n",
       "      <td>Yes</td>\n",
       "      <td>Private</td>\n",
       "      <td>Urban</td>\n",
       "      <td>228.69</td>\n",
       "      <td>36.6</td>\n",
       "      <td>formerly smoked</td>\n",
       "      <td>1</td>\n",
       "    </tr>\n",
       "    <tr>\n",
       "      <th>1</th>\n",
       "      <td>51676</td>\n",
       "      <td>Female</td>\n",
       "      <td>61.0</td>\n",
       "      <td>0</td>\n",
       "      <td>0</td>\n",
       "      <td>Yes</td>\n",
       "      <td>Self-employed</td>\n",
       "      <td>Rural</td>\n",
       "      <td>202.21</td>\n",
       "      <td>NaN</td>\n",
       "      <td>never smoked</td>\n",
       "      <td>1</td>\n",
       "    </tr>\n",
       "    <tr>\n",
       "      <th>2</th>\n",
       "      <td>31112</td>\n",
       "      <td>Male</td>\n",
       "      <td>80.0</td>\n",
       "      <td>0</td>\n",
       "      <td>1</td>\n",
       "      <td>Yes</td>\n",
       "      <td>Private</td>\n",
       "      <td>Rural</td>\n",
       "      <td>105.92</td>\n",
       "      <td>32.5</td>\n",
       "      <td>never smoked</td>\n",
       "      <td>1</td>\n",
       "    </tr>\n",
       "    <tr>\n",
       "      <th>3</th>\n",
       "      <td>60182</td>\n",
       "      <td>Female</td>\n",
       "      <td>49.0</td>\n",
       "      <td>0</td>\n",
       "      <td>0</td>\n",
       "      <td>Yes</td>\n",
       "      <td>Private</td>\n",
       "      <td>Urban</td>\n",
       "      <td>171.23</td>\n",
       "      <td>34.4</td>\n",
       "      <td>smokes</td>\n",
       "      <td>1</td>\n",
       "    </tr>\n",
       "    <tr>\n",
       "      <th>4</th>\n",
       "      <td>1665</td>\n",
       "      <td>Female</td>\n",
       "      <td>79.0</td>\n",
       "      <td>1</td>\n",
       "      <td>0</td>\n",
       "      <td>Yes</td>\n",
       "      <td>Self-employed</td>\n",
       "      <td>Rural</td>\n",
       "      <td>174.12</td>\n",
       "      <td>24.0</td>\n",
       "      <td>never smoked</td>\n",
       "      <td>1</td>\n",
       "    </tr>\n",
       "  </tbody>\n",
       "</table>\n",
       "</div>"
      ],
      "text/plain": [
       "      id  gender   age  hypertension  heart_disease ever_married  \\\n",
       "0   9046    Male  67.0             0              1          Yes   \n",
       "1  51676  Female  61.0             0              0          Yes   \n",
       "2  31112    Male  80.0             0              1          Yes   \n",
       "3  60182  Female  49.0             0              0          Yes   \n",
       "4   1665  Female  79.0             1              0          Yes   \n",
       "\n",
       "       work_type Residence_type  avg_glucose_level   bmi   smoking_status  \\\n",
       "0        Private          Urban             228.69  36.6  formerly smoked   \n",
       "1  Self-employed          Rural             202.21   NaN     never smoked   \n",
       "2        Private          Rural             105.92  32.5     never smoked   \n",
       "3        Private          Urban             171.23  34.4           smokes   \n",
       "4  Self-employed          Rural             174.12  24.0     never smoked   \n",
       "\n",
       "   stroke  \n",
       "0       1  \n",
       "1       1  \n",
       "2       1  \n",
       "3       1  \n",
       "4       1  "
      ]
     },
     "execution_count": 12,
     "metadata": {},
     "output_type": "execute_result"
    }
   ],
   "source": [
    "df = pd.read_csv('stroke_data.csv')\n",
    "df.head()"
   ]
  },
  {
   "cell_type": "code",
   "execution_count": 13,
   "id": "af4cf2b5",
   "metadata": {},
   "outputs": [
    {
     "data": {
      "text/plain": [
       "(5110, 12)"
      ]
     },
     "execution_count": 13,
     "metadata": {},
     "output_type": "execute_result"
    }
   ],
   "source": [
    "df.shape"
   ]
  },
  {
   "cell_type": "code",
   "execution_count": 14,
   "id": "63d9e249",
   "metadata": {},
   "outputs": [
    {
     "data": {
      "text/plain": [
       "id                     0\n",
       "gender                 0\n",
       "age                    0\n",
       "hypertension           0\n",
       "heart_disease          0\n",
       "ever_married           0\n",
       "work_type              0\n",
       "Residence_type         0\n",
       "avg_glucose_level      0\n",
       "bmi                  201\n",
       "smoking_status         0\n",
       "stroke                 0\n",
       "dtype: int64"
      ]
     },
     "execution_count": 14,
     "metadata": {},
     "output_type": "execute_result"
    }
   ],
   "source": [
    "df.isnull().sum()"
   ]
  },
  {
   "cell_type": "code",
   "execution_count": 16,
   "id": "b501b9be",
   "metadata": {},
   "outputs": [
    {
     "data": {
      "text/plain": [
       "28.7    41\n",
       "28.4    38\n",
       "27.7    37\n",
       "27.6    37\n",
       "26.7    37\n",
       "        ..\n",
       "48.0     1\n",
       "49.4     1\n",
       "47.4     1\n",
       "46.6     1\n",
       "54.0     1\n",
       "Name: bmi, Length: 418, dtype: int64"
      ]
     },
     "execution_count": 16,
     "metadata": {},
     "output_type": "execute_result"
    }
   ],
   "source": [
    "df['bmi'].value_counts()"
   ]
  },
  {
   "cell_type": "code",
   "execution_count": 17,
   "id": "333fe306",
   "metadata": {},
   "outputs": [
    {
     "data": {
      "text/plain": [
       "count    4909.000000\n",
       "mean       28.893237\n",
       "std         7.854067\n",
       "min        10.300000\n",
       "25%        23.500000\n",
       "50%        28.100000\n",
       "75%        33.100000\n",
       "max        97.600000\n",
       "Name: bmi, dtype: float64"
      ]
     },
     "execution_count": 17,
     "metadata": {},
     "output_type": "execute_result"
    }
   ],
   "source": [
    "df['bmi'].describe()"
   ]
  },
  {
   "cell_type": "code",
   "execution_count": 20,
   "id": "8bf33fc7",
   "metadata": {},
   "outputs": [],
   "source": [
    "import seaborn as sns"
   ]
  },
  {
   "cell_type": "code",
   "execution_count": 21,
   "id": "f59481cc",
   "metadata": {},
   "outputs": [
    {
     "data": {
      "image/png": "[encoded data removed]",
      "text/plain": [
       "<Figure size 432x288 with 1 Axes>"
      ]
     },
     "metadata": {
      "needs_background": "light"
     },
     "output_type": "display_data"
    }
   ],
   "source": [
    "sns.boxplot(x=df['bmi'])\n",
    "plt.show()"
   ]
  },
  {
   "cell_type": "code",
   "execution_count": 22,
   "id": "71217e57",
   "metadata": {},
   "outputs": [
    {
     "data": {
      "text/plain": [
       "id                   0\n",
       "gender               0\n",
       "age                  0\n",
       "hypertension         0\n",
       "heart_disease        0\n",
       "ever_married         0\n",
       "work_type            0\n",
       "Residence_type       0\n",
       "avg_glucose_level    0\n",
       "bmi                  0\n",
       "smoking_status       0\n",
       "stroke               0\n",
       "dtype: int64"
      ]
     },
     "execution_count": 22,
     "metadata": {},
     "output_type": "execute_result"
    }
   ],
   "source": [
    "df['bmi'].fillna(df['bmi'].mean(),inplace=True)\n",
    "df.isnull().sum()"
   ]
  },
  {
   "cell_type": "code",
   "execution_count": 23,
   "id": "3b7f318e",
   "metadata": {},
   "outputs": [
    {
     "data": {
      "text/plain": [
       "id                     int64\n",
       "gender                object\n",
       "age                  float64\n",
       "hypertension           int64\n",
       "heart_disease          int64\n",
       "ever_married          object\n",
       "work_type             object\n",
       "Residence_type        object\n",
       "avg_glucose_level    float64\n",
       "bmi                  float64\n",
       "smoking_status        object\n",
       "stroke                 int64\n",
       "dtype: object"
      ]
     },
     "execution_count": 23,
     "metadata": {},
     "output_type": "execute_result"
    }
   ],
   "source": [
    "df.dtypes"
   ]
  },
  {
   "cell_type": "markdown",
   "id": "9915914b",
   "metadata": {},
   "source": [
    "#### Dropping ID"
   ]
  },
  {
   "cell_type": "code",
   "execution_count": 24,
   "id": "6e78b3ab",
   "metadata": {},
   "outputs": [
    {
     "data": {
      "text/plain": [
       "Index(['gender', 'age', 'hypertension', 'heart_disease', 'ever_married',\n",
       "       'work_type', 'Residence_type', 'avg_glucose_level', 'bmi',\n",
       "       'smoking_status', 'stroke'],\n",
       "      dtype='object')"
      ]
     },
     "execution_count": 24,
     "metadata": {},
     "output_type": "execute_result"
    }
   ],
   "source": [
    "df = df.iloc[:,1:]\n",
    "df.columns"
   ]
  },
  {
   "cell_type": "code",
   "execution_count": 79,
   "id": "e4637648",
   "metadata": {},
   "outputs": [
    {
     "data": {
      "text/plain": [
       "0    4861\n",
       "1     249\n",
       "Name: stroke, dtype: int64"
      ]
     },
     "execution_count": 79,
     "metadata": {},
     "output_type": "execute_result"
    }
   ],
   "source": [
    "# df['stroke'].value_counts(normalize=True)\n",
    "df['stroke'].value_counts()"
   ]
  },
  {
   "cell_type": "code",
   "execution_count": 26,
   "id": "e498b767",
   "metadata": {},
   "outputs": [
    {
     "name": "stdout",
     "output_type": "stream",
     "text": [
      "Index(['gender', 'ever_married', 'work_type', 'Residence_type',\n",
      "       'smoking_status'],\n",
      "      dtype='object')\n"
     ]
    }
   ],
   "source": [
    "cat_cols = df.select_dtypes(include='object').columns\n",
    "print(cat_cols)"
   ]
  },
  {
   "cell_type": "code",
   "execution_count": 29,
   "id": "0fce016d",
   "metadata": {},
   "outputs": [
    {
     "data": {
      "text/plain": [
       "Female    2994\n",
       "Male      2115\n",
       "Other        1\n",
       "Name: gender, dtype: int64"
      ]
     },
     "execution_count": 29,
     "metadata": {},
     "output_type": "execute_result"
    }
   ],
   "source": [
    "df['gender'].value_counts()"
   ]
  },
  {
   "cell_type": "code",
   "execution_count": 31,
   "id": "c483aa5e",
   "metadata": {},
   "outputs": [
    {
     "data": {
      "image/png": "[encoded data removed]",
      "text/plain": [
       "<Figure size 432x288 with 1 Axes>"
      ]
     },
     "metadata": {
      "needs_background": "light"
     },
     "output_type": "display_data"
    },
    {
     "data": {
      "image/png": "[encoded data removed]",
      "text/plain": [
       "<Figure size 432x288 with 1 Axes>"
      ]
     },
     "metadata": {
      "needs_background": "light"
     },
     "output_type": "display_data"
    },
    {
     "data": {
      "image/png": "[encoded data removed]",
      "text/plain": [
       "<Figure size 432x288 with 1 Axes>"
      ]
     },
     "metadata": {
      "needs_background": "light"
     },
     "output_type": "display_data"
    },
    {
     "data": {
      "image/png": "[encoded data removed]",
      "text/plain": [
       "<Figure size 432x288 with 1 Axes>"
      ]
     },
     "metadata": {
      "needs_background": "light"
     },
     "output_type": "display_data"
    },
    {
     "data": {
      "image/png": "[encoded data removed]",
      "text/plain": [
       "<Figure size 432x288 with 1 Axes>"
      ]
     },
     "metadata": {
      "needs_background": "light"
     },
     "output_type": "display_data"
    }
   ],
   "source": [
    "for i in cat_cols:\n",
    "    sns.countplot(x=df[i],hue=df['stroke'])\n",
    "    plt.show()"
   ]
  },
  {
   "cell_type": "code",
   "execution_count": null,
   "id": "6b826029",
   "metadata": {},
   "outputs": [],
   "source": [
    "#### Infernce\n"
   ]
  },
  {
   "cell_type": "code",
   "execution_count": 32,
   "id": "db12ea36",
   "metadata": {},
   "outputs": [
    {
     "data": {
      "text/plain": [
       "Index(['gender', 'age', 'hypertension', 'heart_disease', 'ever_married',\n",
       "       'work_type', 'Residence_type', 'avg_glucose_level', 'bmi',\n",
       "       'smoking_status', 'stroke'],\n",
       "      dtype='object')"
      ]
     },
     "execution_count": 32,
     "metadata": {},
     "output_type": "execute_result"
    }
   ],
   "source": [
    "df.columns"
   ]
  },
  {
   "cell_type": "code",
   "execution_count": 69,
   "id": "41b0fdff",
   "metadata": {},
   "outputs": [
    {
     "data": {
      "image/png": "[encoded data removed]",
      "text/plain": [
       "<Figure size 432x288 with 1 Axes>"
      ]
     },
     "metadata": {
      "needs_background": "light"
     },
     "output_type": "display_data"
    }
   ],
   "source": [
    "sns.countplot(x=df['heart_disease'],hue=df['stroke'])\n",
    "plt.show()"
   ]
  },
  {
   "cell_type": "markdown",
   "id": "72cbfd05",
   "metadata": {},
   "source": [
    "#### Corr"
   ]
  },
  {
   "cell_type": "code",
   "execution_count": 35,
   "id": "5b09fb16",
   "metadata": {},
   "outputs": [
    {
     "data": {
      "image/png": "[encoded data removed]",
      "text/plain": [
       "<Figure size 432x288 with 2 Axes>"
      ]
     },
     "metadata": {
      "needs_background": "light"
     },
     "output_type": "display_data"
    }
   ],
   "source": [
    "corr = df.corr()\n",
    "sns.heatmap(corr,annot=True)\n",
    "plt.show()"
   ]
  },
  {
   "cell_type": "code",
   "execution_count": 36,
   "id": "147694d1",
   "metadata": {},
   "outputs": [
    {
     "name": "stdout",
     "output_type": "stream",
     "text": [
      "Index(['age', 'hypertension', 'heart_disease', 'avg_glucose_level', 'bmi',\n",
      "       'stroke'],\n",
      "      dtype='object')\n"
     ]
    }
   ],
   "source": [
    "num_cols = df.select_dtypes(exclude='object').columns\n",
    "print(num_cols)"
   ]
  },
  {
   "cell_type": "code",
   "execution_count": 37,
   "id": "9e36111e",
   "metadata": {},
   "outputs": [
    {
     "data": {
      "image/png": "[encoded data removed]",
      "text/plain": [
       "<Figure size 432x288 with 1 Axes>"
      ]
     },
     "metadata": {
      "needs_background": "light"
     },
     "output_type": "display_data"
    },
    {
     "data": {
      "image/png": "[encoded data removed]",
      "text/plain": [
       "<Figure size 432x288 with 1 Axes>"
      ]
     },
     "metadata": {
      "needs_background": "light"
     },
     "output_type": "display_data"
    },
    {
     "data": {
      "image/png": "[encoded data removed]",
      "text/plain": [
       "<Figure size 432x288 with 1 Axes>"
      ]
     },
     "metadata": {
      "needs_background": "light"
     },
     "output_type": "display_data"
    },
    {
     "data": {
      "image/png": "[encoded data removed]",
      "text/plain": [
       "<Figure size 432x288 with 1 Axes>"
      ]
     },
     "metadata": {
      "needs_background": "light"
     },
     "output_type": "display_data"
    },
    {
     "data": {
      "image/png": "[encoded data removed]",
      "text/plain": [
       "<Figure size 432x288 with 1 Axes>"
      ]
     },
     "metadata": {
      "needs_background": "light"
     },
     "output_type": "display_data"
    },
    {
     "data": {
      "image/png": "[encoded data removed]",
      "text/plain": [
       "<Figure size 432x288 with 1 Axes>"
      ]
     },
     "metadata": {
      "needs_background": "light"
     },
     "output_type": "display_data"
    }
   ],
   "source": [
    "for i in num_cols:\n",
    "    sns.boxplot(x=df[i])\n",
    "    plt.show()"
   ]
  },
  {
   "cell_type": "markdown",
   "id": "897c222d",
   "metadata": {},
   "source": [
    "#### Inference\n",
    "1) avg glucose level and bmi has outliers beyond q3"
   ]
  },
  {
   "cell_type": "code",
   "execution_count": null,
   "id": "0ff67d61",
   "metadata": {},
   "outputs": [],
   "source": [
    "#### Univariate\n",
    "# 1) boxplot,violinplot\n",
    "# 2) describe\n",
    "# 3) barchart, histplot,displot\n",
    "\n",
    "### Bivariate Analysis\n",
    "# num-num  - scatterplot, pairplot\n",
    "# num-cat  - groupby+agg, \n",
    "# cat-cat -  chi square, countplot with hue\n",
    "\n",
    "# "
   ]
  },
  {
   "cell_type": "code",
   "execution_count": 38,
   "id": "787e3578",
   "metadata": {},
   "outputs": [
    {
     "data": {
      "text/html": [
       "<div>\n",
       "<style scoped>\n",
       "    .dataframe tbody tr th:only-of-type {\n",
       "        vertical-align: middle;\n",
       "    }\n",
       "\n",
       "    .dataframe tbody tr th {\n",
       "        vertical-align: top;\n",
       "    }\n",
       "\n",
       "    .dataframe thead th {\n",
       "        text-align: right;\n",
       "    }\n",
       "</style>\n",
       "<table border=\"1\" class=\"dataframe\">\n",
       "  <thead>\n",
       "    <tr style=\"text-align: right;\">\n",
       "      <th></th>\n",
       "      <th>count</th>\n",
       "      <th>mean</th>\n",
       "      <th>std</th>\n",
       "      <th>min</th>\n",
       "      <th>1%</th>\n",
       "      <th>2%</th>\n",
       "      <th>3%</th>\n",
       "      <th>5%</th>\n",
       "      <th>50%</th>\n",
       "      <th>95%</th>\n",
       "      <th>97%</th>\n",
       "      <th>98%</th>\n",
       "      <th>99%</th>\n",
       "      <th>max</th>\n",
       "    </tr>\n",
       "  </thead>\n",
       "  <tbody>\n",
       "    <tr>\n",
       "      <th>age</th>\n",
       "      <td>5110.0</td>\n",
       "      <td>43.226614</td>\n",
       "      <td>22.612647</td>\n",
       "      <td>0.08</td>\n",
       "      <td>1.0800</td>\n",
       "      <td>1.7344</td>\n",
       "      <td>2.0000</td>\n",
       "      <td>5.0000</td>\n",
       "      <td>45.000</td>\n",
       "      <td>79.0000</td>\n",
       "      <td>80.0000</td>\n",
       "      <td>81.0000</td>\n",
       "      <td>82.0000</td>\n",
       "      <td>82.00</td>\n",
       "    </tr>\n",
       "    <tr>\n",
       "      <th>hypertension</th>\n",
       "      <td>5110.0</td>\n",
       "      <td>0.097456</td>\n",
       "      <td>0.296607</td>\n",
       "      <td>0.00</td>\n",
       "      <td>0.0000</td>\n",
       "      <td>0.0000</td>\n",
       "      <td>0.0000</td>\n",
       "      <td>0.0000</td>\n",
       "      <td>0.000</td>\n",
       "      <td>1.0000</td>\n",
       "      <td>1.0000</td>\n",
       "      <td>1.0000</td>\n",
       "      <td>1.0000</td>\n",
       "      <td>1.00</td>\n",
       "    </tr>\n",
       "    <tr>\n",
       "      <th>heart_disease</th>\n",
       "      <td>5110.0</td>\n",
       "      <td>0.054012</td>\n",
       "      <td>0.226063</td>\n",
       "      <td>0.00</td>\n",
       "      <td>0.0000</td>\n",
       "      <td>0.0000</td>\n",
       "      <td>0.0000</td>\n",
       "      <td>0.0000</td>\n",
       "      <td>0.000</td>\n",
       "      <td>1.0000</td>\n",
       "      <td>1.0000</td>\n",
       "      <td>1.0000</td>\n",
       "      <td>1.0000</td>\n",
       "      <td>1.00</td>\n",
       "    </tr>\n",
       "    <tr>\n",
       "      <th>avg_glucose_level</th>\n",
       "      <td>5110.0</td>\n",
       "      <td>106.147677</td>\n",
       "      <td>45.283560</td>\n",
       "      <td>55.12</td>\n",
       "      <td>56.3309</td>\n",
       "      <td>57.4354</td>\n",
       "      <td>58.5208</td>\n",
       "      <td>60.7135</td>\n",
       "      <td>91.885</td>\n",
       "      <td>216.2945</td>\n",
       "      <td>226.8692</td>\n",
       "      <td>231.9158</td>\n",
       "      <td>240.7082</td>\n",
       "      <td>271.74</td>\n",
       "    </tr>\n",
       "    <tr>\n",
       "      <th>bmi</th>\n",
       "      <td>5110.0</td>\n",
       "      <td>28.893237</td>\n",
       "      <td>7.698018</td>\n",
       "      <td>10.30</td>\n",
       "      <td>15.1090</td>\n",
       "      <td>16.2000</td>\n",
       "      <td>16.7270</td>\n",
       "      <td>17.7000</td>\n",
       "      <td>28.400</td>\n",
       "      <td>42.6550</td>\n",
       "      <td>45.1000</td>\n",
       "      <td>48.0820</td>\n",
       "      <td>52.8910</td>\n",
       "      <td>97.60</td>\n",
       "    </tr>\n",
       "    <tr>\n",
       "      <th>stroke</th>\n",
       "      <td>5110.0</td>\n",
       "      <td>0.048728</td>\n",
       "      <td>0.215320</td>\n",
       "      <td>0.00</td>\n",
       "      <td>0.0000</td>\n",
       "      <td>0.0000</td>\n",
       "      <td>0.0000</td>\n",
       "      <td>0.0000</td>\n",
       "      <td>0.000</td>\n",
       "      <td>0.0000</td>\n",
       "      <td>1.0000</td>\n",
       "      <td>1.0000</td>\n",
       "      <td>1.0000</td>\n",
       "      <td>1.00</td>\n",
       "    </tr>\n",
       "  </tbody>\n",
       "</table>\n",
       "</div>"
      ],
      "text/plain": [
       "                    count        mean        std    min       1%       2%  \\\n",
       "age                5110.0   43.226614  22.612647   0.08   1.0800   1.7344   \n",
       "hypertension       5110.0    0.097456   0.296607   0.00   0.0000   0.0000   \n",
       "heart_disease      5110.0    0.054012   0.226063   0.00   0.0000   0.0000   \n",
       "avg_glucose_level  5110.0  106.147677  45.283560  55.12  56.3309  57.4354   \n",
       "bmi                5110.0   28.893237   7.698018  10.30  15.1090  16.2000   \n",
       "stroke             5110.0    0.048728   0.215320   0.00   0.0000   0.0000   \n",
       "\n",
       "                        3%       5%     50%       95%       97%       98%  \\\n",
       "age                 2.0000   5.0000  45.000   79.0000   80.0000   81.0000   \n",
       "hypertension        0.0000   0.0000   0.000    1.0000    1.0000    1.0000   \n",
       "heart_disease       0.0000   0.0000   0.000    1.0000    1.0000    1.0000   \n",
       "avg_glucose_level  58.5208  60.7135  91.885  216.2945  226.8692  231.9158   \n",
       "bmi                16.7270  17.7000  28.400   42.6550   45.1000   48.0820   \n",
       "stroke              0.0000   0.0000   0.000    0.0000    1.0000    1.0000   \n",
       "\n",
       "                        99%     max  \n",
       "age                 82.0000   82.00  \n",
       "hypertension         1.0000    1.00  \n",
       "heart_disease        1.0000    1.00  \n",
       "avg_glucose_level  240.7082  271.74  \n",
       "bmi                 52.8910   97.60  \n",
       "stroke               1.0000    1.00  "
      ]
     },
     "execution_count": 38,
     "metadata": {},
     "output_type": "execute_result"
    }
   ],
   "source": [
    "df.describe(percentiles=[0.01,0.02,0.03,0.05,0.95,0.97,0.98,0.99]).T"
   ]
  },
  {
   "cell_type": "code",
   "execution_count": 45,
   "id": "cb8dd2d7",
   "metadata": {},
   "outputs": [],
   "source": [
    "def outlier_treat(x):\n",
    "    x = x.clip(upper = x.quantile(0.97))\n",
    "    return x"
   ]
  },
  {
   "cell_type": "code",
   "execution_count": 46,
   "id": "7dd380e7",
   "metadata": {},
   "outputs": [],
   "source": [
    "cols_with_ol =  ['avg_glucose_level','bmi']\n",
    "df[cols_with_ol] = df[cols_with_ol].apply(outlier_treat)"
   ]
  },
  {
   "cell_type": "markdown",
   "id": "b7990c46",
   "metadata": {},
   "source": [
    "#### Binning"
   ]
  },
  {
   "cell_type": "code",
   "execution_count": 39,
   "id": "3c55dd7c",
   "metadata": {},
   "outputs": [
    {
     "data": {
      "text/plain": [
       "count    5110.000000\n",
       "mean       43.226614\n",
       "std        22.612647\n",
       "min         0.080000\n",
       "25%        25.000000\n",
       "50%        45.000000\n",
       "75%        61.000000\n",
       "max        82.000000\n",
       "Name: age, dtype: float64"
      ]
     },
     "execution_count": 39,
     "metadata": {},
     "output_type": "execute_result"
    }
   ],
   "source": [
    "df['age'].describe()"
   ]
  },
  {
   "cell_type": "code",
   "execution_count": 41,
   "id": "fe3eeead",
   "metadata": {},
   "outputs": [
    {
     "data": {
      "text/plain": [
       "(50, 60]    823\n",
       "(40, 50]    739\n",
       "(30, 40]    674\n",
       "(60, 70]    594\n",
       "(70, 80]    594\n",
       "(20, 30]    545\n",
       "(10, 20]    518\n",
       "(0, 10]     507\n",
       "(80, 90]    116\n",
       "Name: age_bin, dtype: int64"
      ]
     },
     "execution_count": 41,
     "metadata": {},
     "output_type": "execute_result"
    }
   ],
   "source": [
    "df['age_bin'] = pd.cut(df['age'],bins=[0,10,20,30,40,50,60,70,80,90])\n",
    "df['age_bin'].value_counts()"
   ]
  },
  {
   "cell_type": "code",
   "execution_count": 43,
   "id": "d2edfd2a",
   "metadata": {},
   "outputs": [
    {
     "data": {
      "text/plain": [
       "age_bin   stroke\n",
       "(0, 10]   0         506\n",
       "          1           1\n",
       "(10, 20]  0         517\n",
       "          1           1\n",
       "(20, 30]  0         545\n",
       "          1           0\n",
       "(30, 40]  0         668\n",
       "          1           6\n",
       "(40, 50]  0         724\n",
       "          1          15\n",
       "(50, 60]  0         774\n",
       "          1          49\n",
       "(60, 70]  0         545\n",
       "          1          49\n",
       "(70, 80]  0         489\n",
       "          1         105\n",
       "(80, 90]  0          93\n",
       "          1          23\n",
       "Name: stroke, dtype: int64"
      ]
     },
     "execution_count": 43,
     "metadata": {},
     "output_type": "execute_result"
    }
   ],
   "source": [
    "df.groupby(['age_bin','stroke'])['stroke'].count()"
   ]
  },
  {
   "cell_type": "code",
   "execution_count": 47,
   "id": "699362c1",
   "metadata": {},
   "outputs": [
    {
     "data": {
      "text/plain": [
       "gender                 object\n",
       "age                   float64\n",
       "hypertension            int64\n",
       "heart_disease           int64\n",
       "ever_married           object\n",
       "work_type              object\n",
       "Residence_type         object\n",
       "avg_glucose_level     float64\n",
       "bmi                   float64\n",
       "smoking_status         object\n",
       "stroke                  int64\n",
       "age_bin              category\n",
       "dtype: object"
      ]
     },
     "execution_count": 47,
     "metadata": {},
     "output_type": "execute_result"
    }
   ],
   "source": [
    "df.dtypes"
   ]
  },
  {
   "cell_type": "code",
   "execution_count": 49,
   "id": "8bf07684",
   "metadata": {},
   "outputs": [
    {
     "data": {
      "text/plain": [
       "Index(['gender', 'ever_married', 'work_type', 'Residence_type',\n",
       "       'smoking_status'],\n",
       "      dtype='object')"
      ]
     },
     "execution_count": 49,
     "metadata": {},
     "output_type": "execute_result"
    }
   ],
   "source": [
    "cat_cols"
   ]
  },
  {
   "cell_type": "code",
   "execution_count": 50,
   "id": "befbefab",
   "metadata": {},
   "outputs": [],
   "source": [
    "from sklearn.preprocessing import LabelEncoder"
   ]
  },
  {
   "cell_type": "code",
   "execution_count": 51,
   "id": "0d53f01a",
   "metadata": {},
   "outputs": [],
   "source": [
    "lb = LabelEncoder()\n",
    "for i in cat_cols:\n",
    "    df[i] = lb.fit_transform(df[i])"
   ]
  },
  {
   "cell_type": "code",
   "execution_count": 59,
   "id": "83049fb4",
   "metadata": {},
   "outputs": [
    {
     "data": {
      "text/plain": [
       "Index(['gender', 'age', 'hypertension', 'heart_disease', 'ever_married',\n",
       "       'work_type', 'Residence_type', 'avg_glucose_level', 'bmi',\n",
       "       'smoking_status', 'stroke', 'age_bin'],\n",
       "      dtype='object')"
      ]
     },
     "execution_count": 59,
     "metadata": {},
     "output_type": "execute_result"
    }
   ],
   "source": [
    "df.columns"
   ]
  },
  {
   "cell_type": "code",
   "execution_count": 72,
   "id": "3efdea38",
   "metadata": {},
   "outputs": [],
   "source": [
    "# r = [10,20,30,40,50]\n",
    "# r[:-2]"
   ]
  },
  {
   "cell_type": "code",
   "execution_count": 62,
   "id": "ed759693",
   "metadata": {},
   "outputs": [
    {
     "name": "stdout",
     "output_type": "stream",
     "text": [
      "(5110, 10)\n",
      "(5110,)\n"
     ]
    }
   ],
   "source": [
    "# x = df.iloc[:,[0,1,2,3,4,5,7,8,9,10,11]]  # df.drop('Residence_type',axis=1)\n",
    "x = df.iloc[:,:-2] \n",
    "y = df.iloc[:,-2] \n",
    "print(x.shape)\n",
    "print(y.shape)"
   ]
  },
  {
   "cell_type": "code",
   "execution_count": 64,
   "id": "a0bbccbb",
   "metadata": {},
   "outputs": [
    {
     "data": {
      "text/plain": [
       "Index(['gender', 'age', 'hypertension', 'heart_disease', 'ever_married',\n",
       "       'work_type', 'Residence_type', 'avg_glucose_level', 'bmi',\n",
       "       'smoking_status'],\n",
       "      dtype='object')"
      ]
     },
     "execution_count": 64,
     "metadata": {},
     "output_type": "execute_result"
    }
   ],
   "source": [
    "x.columns"
   ]
  },
  {
   "cell_type": "code",
   "execution_count": 65,
   "id": "3a5f613e",
   "metadata": {},
   "outputs": [
    {
     "name": "stdout",
     "output_type": "stream",
     "text": [
      "(3832, 10)\n",
      "(1278, 10)\n",
      "(3832,)\n",
      "(1278,)\n"
     ]
    }
   ],
   "source": [
    "x_train,x_test,y_train,y_test = train_test_split(x,y,test_size=0.25,\n",
    "                                                random_state=42)\n",
    "print(x_train.shape)\n",
    "print(x_test.shape)\n",
    "print(y_train.shape)\n",
    "print(y_test.shape)"
   ]
  },
  {
   "cell_type": "code",
   "execution_count": 73,
   "id": "56927f08",
   "metadata": {},
   "outputs": [],
   "source": [
    "def model_metrics(model,x_train,x_test,y_train,y_test):\n",
    "    model.fit(x_train,y_train)\n",
    "    print('Training score',model.score(x_train,y_train))\n",
    "    print('Testing score',model.score(x_test,y_test))\n",
    "    ypred = model.predict(x_test)\n",
    "    print('Predictions',ypred)\n",
    "    cm = confusion_matrix(y_test,ypred)\n",
    "    print(cm)\n",
    "    print(classification_report(y_test,ypred))"
   ]
  },
  {
   "cell_type": "code",
   "execution_count": 74,
   "id": "b71486ff",
   "metadata": {},
   "outputs": [
    {
     "name": "stdout",
     "output_type": "stream",
     "text": [
      "Training score 0.8233298538622129\n",
      "Testing score 0.8137715179968701\n",
      "Predictions [0 0 0 ... 1 0 0]\n",
      "[[1010  188]\n",
      " [  50   30]]\n",
      "              precision    recall  f1-score   support\n",
      "\n",
      "           0       0.95      0.84      0.89      1198\n",
      "           1       0.14      0.38      0.20        80\n",
      "\n",
      "    accuracy                           0.81      1278\n",
      "   macro avg       0.55      0.61      0.55      1278\n",
      "weighted avg       0.90      0.81      0.85      1278\n",
      "\n"
     ]
    }
   ],
   "source": [
    "m1 = MultinomialNB()\n",
    "model_metrics(m1,x_train,x_test,y_train,y_test)"
   ]
  },
  {
   "cell_type": "code",
   "execution_count": 76,
   "id": "e813f58c",
   "metadata": {},
   "outputs": [],
   "source": [
    "from collections import Counter"
   ]
  },
  {
   "cell_type": "code",
   "execution_count": 78,
   "id": "2eda7959",
   "metadata": {},
   "outputs": [
    {
     "name": "stdout",
     "output_type": "stream",
     "text": [
      "Counter({0: 3663, 1: 169})\n",
      "Counter({0: 1198, 1: 80})\n"
     ]
    }
   ],
   "source": [
    "train_stroke_count = Counter(y_train)\n",
    "print(train_stroke_count)\n",
    "test_stroke_count = Counter(y_test)\n",
    "print(test_stroke_count)"
   ]
  },
  {
   "cell_type": "markdown",
   "id": "51932771",
   "metadata": {},
   "source": [
    "### SMOTE"
   ]
  },
  {
   "cell_type": "code",
   "execution_count": 75,
   "id": "19b5cc82",
   "metadata": {},
   "outputs": [],
   "source": [
    "from imblearn.over_sampling import SMOTE"
   ]
  },
  {
   "cell_type": "code",
   "execution_count": 81,
   "id": "0397eb3f",
   "metadata": {},
   "outputs": [
    {
     "name": "stdout",
     "output_type": "stream",
     "text": [
      "(7326, 10)\n",
      "(7326,)\n"
     ]
    }
   ],
   "source": [
    "sm = SMOTE()\n",
    "x_sm,y_sm = sm.fit_resample(x_train,y_train)\n",
    "print(x_sm.shape)\n",
    "print(y_sm.shape)"
   ]
  },
  {
   "cell_type": "code",
   "execution_count": 82,
   "id": "d63f29ce",
   "metadata": {},
   "outputs": [
    {
     "name": "stdout",
     "output_type": "stream",
     "text": [
      "Counter({0: 3663, 1: 3663})\n"
     ]
    }
   ],
   "source": [
    "train_smote_count = Counter(y_sm)\n",
    "print(train_smote_count)"
   ]
  },
  {
   "cell_type": "markdown",
   "id": "00ba4913",
   "metadata": {},
   "source": [
    "#### Model Building after SMOTE"
   ]
  },
  {
   "cell_type": "code",
   "execution_count": 83,
   "id": "00befb53",
   "metadata": {},
   "outputs": [
    {
     "name": "stdout",
     "output_type": "stream",
     "text": [
      "Training score 0.7383292383292384\n",
      "Testing score 0.6830985915492958\n",
      "Predictions [0 0 0 ... 1 0 0]\n",
      "[[823 375]\n",
      " [ 30  50]]\n",
      "              precision    recall  f1-score   support\n",
      "\n",
      "           0       0.96      0.69      0.80      1198\n",
      "           1       0.12      0.62      0.20        80\n",
      "\n",
      "    accuracy                           0.68      1278\n",
      "   macro avg       0.54      0.66      0.50      1278\n",
      "weighted avg       0.91      0.68      0.76      1278\n",
      "\n"
     ]
    }
   ],
   "source": [
    "model_metrics(m1,x_sm,x_test,y_sm,y_test)"
   ]
  },
  {
   "cell_type": "markdown",
   "id": "a444287d",
   "metadata": {},
   "source": [
    "#### RandomForest Classifier"
   ]
  },
  {
   "cell_type": "code",
   "execution_count": 84,
   "id": "2a6156bf",
   "metadata": {},
   "outputs": [
    {
     "name": "stdout",
     "output_type": "stream",
     "text": [
      "Training score 0.9706524706524706\n",
      "Testing score 0.8881064162754304\n",
      "Predictions [0 0 0 ... 0 0 0]\n",
      "[[1114   84]\n",
      " [  59   21]]\n",
      "              precision    recall  f1-score   support\n",
      "\n",
      "           0       0.95      0.93      0.94      1198\n",
      "           1       0.20      0.26      0.23        80\n",
      "\n",
      "    accuracy                           0.89      1278\n",
      "   macro avg       0.57      0.60      0.58      1278\n",
      "weighted avg       0.90      0.89      0.90      1278\n",
      "\n"
     ]
    }
   ],
   "source": [
    "m2 = RandomForestClassifier(n_estimators=70,criterion='gini',min_samples_split=20)\n",
    "model_metrics(m2,x_sm,x_test,y_sm,y_test)"
   ]
  },
  {
   "cell_type": "code",
   "execution_count": 87,
   "id": "bb8aaa60",
   "metadata": {},
   "outputs": [],
   "source": [
    "def model_metrics2(model,x_train,x_test,y_train,y_test):\n",
    "    model.fit(x_train,y_train)\n",
    "    ypred = model.predict(x_test)\n",
    "    acc_scr = accuracy_score(y_test,ypred)\n",
    "    pre_scr = precision_score(y_test,ypred)\n",
    "    rec_scr = recall_score(y_test,ypred)\n",
    "    cm = confusion_matrix(y_test,ypred)\n",
    "    cls_rep = classification_report(y_test,ypred)\n",
    "    return cm,cls_rep, acc_scr,pre_scr,rec_scr"
   ]
  },
  {
   "cell_type": "code",
   "execution_count": 88,
   "id": "40ffa052",
   "metadata": {},
   "outputs": [],
   "source": [
    "m2 = RandomForestClassifier(n_estimators=70,criterion='gini',min_samples_split=20)\n",
    "rf_cm,rf_cls_rep,rf_acc,rf_pre,rf_rec = model_metrics2(m2,x_sm,x_test,y_sm,y_test)"
   ]
  },
  {
   "cell_type": "code",
   "execution_count": 98,
   "id": "3c0356bd",
   "metadata": {},
   "outputs": [
    {
     "data": {
      "text/html": [
       "<div>\n",
       "<style scoped>\n",
       "    .dataframe tbody tr th:only-of-type {\n",
       "        vertical-align: middle;\n",
       "    }\n",
       "\n",
       "    .dataframe tbody tr th {\n",
       "        vertical-align: top;\n",
       "    }\n",
       "\n",
       "    .dataframe thead th {\n",
       "        text-align: right;\n",
       "    }\n",
       "</style>\n",
       "<table border=\"1\" class=\"dataframe\">\n",
       "  <thead>\n",
       "    <tr style=\"text-align: right;\">\n",
       "      <th></th>\n",
       "      <th>Model</th>\n",
       "      <th>Acc</th>\n",
       "      <th>Pre</th>\n",
       "      <th>Rec</th>\n",
       "    </tr>\n",
       "  </thead>\n",
       "  <tbody>\n",
       "    <tr>\n",
       "      <th>0</th>\n",
       "      <td>RF+SMOTE</td>\n",
       "      <td>0.892019</td>\n",
       "      <td>0.221154</td>\n",
       "      <td>0.2875</td>\n",
       "    </tr>\n",
       "  </tbody>\n",
       "</table>\n",
       "</div>"
      ],
      "text/plain": [
       "      Model       Acc       Pre     Rec\n",
       "0  RF+SMOTE  0.892019  0.221154  0.2875"
      ]
     },
     "execution_count": 98,
     "metadata": {},
     "output_type": "execute_result"
    }
   ],
   "source": [
    "res1 = pd.DataFrame({'Model':'RF+SMOTE','Acc':rf_acc,'Pre':rf_pre,'Rec':rf_rec},index=[0])\n",
    "res1"
   ]
  },
  {
   "cell_type": "markdown",
   "id": "e982e743",
   "metadata": {},
   "source": [
    "#### Decision Tree Classification"
   ]
  },
  {
   "cell_type": "code",
   "execution_count": 101,
   "id": "bc57efe3",
   "metadata": {},
   "outputs": [],
   "source": [
    "m3 = DecisionTreeClassifier(criterion='entropy',max_depth=7,min_samples_split=15)\n",
    "dt_cm,dt_cls_rep,dt_acc,dt_pre,dt_rec = model_metrics2(m3,x_sm,x_test,y_sm,y_test)"
   ]
  },
  {
   "cell_type": "code",
   "execution_count": 102,
   "id": "ba12ad07",
   "metadata": {},
   "outputs": [
    {
     "data": {
      "text/html": [
       "<div>\n",
       "<style scoped>\n",
       "    .dataframe tbody tr th:only-of-type {\n",
       "        vertical-align: middle;\n",
       "    }\n",
       "\n",
       "    .dataframe tbody tr th {\n",
       "        vertical-align: top;\n",
       "    }\n",
       "\n",
       "    .dataframe thead th {\n",
       "        text-align: right;\n",
       "    }\n",
       "</style>\n",
       "<table border=\"1\" class=\"dataframe\">\n",
       "  <thead>\n",
       "    <tr style=\"text-align: right;\">\n",
       "      <th></th>\n",
       "      <th>Model</th>\n",
       "      <th>Acc</th>\n",
       "      <th>Pre</th>\n",
       "      <th>Rec</th>\n",
       "    </tr>\n",
       "  </thead>\n",
       "  <tbody>\n",
       "    <tr>\n",
       "      <th>1</th>\n",
       "      <td>DT+SMOTE</td>\n",
       "      <td>0.77856</td>\n",
       "      <td>0.11985</td>\n",
       "      <td>0.4</td>\n",
       "    </tr>\n",
       "  </tbody>\n",
       "</table>\n",
       "</div>"
      ],
      "text/plain": [
       "      Model      Acc      Pre  Rec\n",
       "1  DT+SMOTE  0.77856  0.11985  0.4"
      ]
     },
     "execution_count": 102,
     "metadata": {},
     "output_type": "execute_result"
    }
   ],
   "source": [
    "res2 = pd.DataFrame({'Model':'DT+SMOTE','Acc':dt_acc,'Pre':dt_pre,'Rec':dt_rec},index=[1])\n",
    "res2"
   ]
  },
  {
   "cell_type": "code",
   "execution_count": 103,
   "id": "f4c67d6b",
   "metadata": {},
   "outputs": [
    {
     "data": {
      "text/html": [
       "<div>\n",
       "<style scoped>\n",
       "    .dataframe tbody tr th:only-of-type {\n",
       "        vertical-align: middle;\n",
       "    }\n",
       "\n",
       "    .dataframe tbody tr th {\n",
       "        vertical-align: top;\n",
       "    }\n",
       "\n",
       "    .dataframe thead th {\n",
       "        text-align: right;\n",
       "    }\n",
       "</style>\n",
       "<table border=\"1\" class=\"dataframe\">\n",
       "  <thead>\n",
       "    <tr style=\"text-align: right;\">\n",
       "      <th></th>\n",
       "      <th>Model</th>\n",
       "      <th>Acc</th>\n",
       "      <th>Pre</th>\n",
       "      <th>Rec</th>\n",
       "    </tr>\n",
       "  </thead>\n",
       "  <tbody>\n",
       "    <tr>\n",
       "      <th>0</th>\n",
       "      <td>RF+SMOTE</td>\n",
       "      <td>0.892019</td>\n",
       "      <td>0.221154</td>\n",
       "      <td>0.2875</td>\n",
       "    </tr>\n",
       "    <tr>\n",
       "      <th>1</th>\n",
       "      <td>DT+SMOTE</td>\n",
       "      <td>0.778560</td>\n",
       "      <td>0.119850</td>\n",
       "      <td>0.4000</td>\n",
       "    </tr>\n",
       "  </tbody>\n",
       "</table>\n",
       "</div>"
      ],
      "text/plain": [
       "      Model       Acc       Pre     Rec\n",
       "0  RF+SMOTE  0.892019  0.221154  0.2875\n",
       "1  DT+SMOTE  0.778560  0.119850  0.4000"
      ]
     },
     "execution_count": 103,
     "metadata": {},
     "output_type": "execute_result"
    }
   ],
   "source": [
    "res = pd.concat([res1,res2])\n",
    "res"
   ]
  },
  {
   "cell_type": "code",
   "execution_count": 104,
   "id": "ab348dfc",
   "metadata": {},
   "outputs": [],
   "source": [
    "# res.to_csv('Stroke_model_results.csv')"
   ]
  },
  {
   "cell_type": "code",
   "execution_count": 107,
   "id": "40a9cdef",
   "metadata": {},
   "outputs": [],
   "source": [
    "m4 = KNeighborsClassifier(n_neighbors=19)\n",
    "knn_cm,knn_cls_rep,knn_acc,knn_pre,knn_rec = model_metrics2(m4,x_sm,x_test,y_sm,y_test)"
   ]
  },
  {
   "cell_type": "code",
   "execution_count": 108,
   "id": "6dac392c",
   "metadata": {},
   "outputs": [
    {
     "data": {
      "text/html": [
       "<div>\n",
       "<style scoped>\n",
       "    .dataframe tbody tr th:only-of-type {\n",
       "        vertical-align: middle;\n",
       "    }\n",
       "\n",
       "    .dataframe tbody tr th {\n",
       "        vertical-align: top;\n",
       "    }\n",
       "\n",
       "    .dataframe thead th {\n",
       "        text-align: right;\n",
       "    }\n",
       "</style>\n",
       "<table border=\"1\" class=\"dataframe\">\n",
       "  <thead>\n",
       "    <tr style=\"text-align: right;\">\n",
       "      <th></th>\n",
       "      <th>Model</th>\n",
       "      <th>Acc</th>\n",
       "      <th>Pre</th>\n",
       "      <th>Rec</th>\n",
       "    </tr>\n",
       "  </thead>\n",
       "  <tbody>\n",
       "    <tr>\n",
       "      <th>2</th>\n",
       "      <td>KNN+SMOTE</td>\n",
       "      <td>0.753521</td>\n",
       "      <td>0.153392</td>\n",
       "      <td>0.65</td>\n",
       "    </tr>\n",
       "  </tbody>\n",
       "</table>\n",
       "</div>"
      ],
      "text/plain": [
       "       Model       Acc       Pre   Rec\n",
       "2  KNN+SMOTE  0.753521  0.153392  0.65"
      ]
     },
     "execution_count": 108,
     "metadata": {},
     "output_type": "execute_result"
    }
   ],
   "source": [
    "res3 = pd.DataFrame({'Model':'KNN+SMOTE','Acc':knn_acc,'Pre':knn_pre,'Rec':knn_rec},index=[2])\n",
    "res3"
   ]
  },
  {
   "cell_type": "code",
   "execution_count": 109,
   "id": "671401d0",
   "metadata": {},
   "outputs": [
    {
     "data": {
      "text/html": [
       "<div>\n",
       "<style scoped>\n",
       "    .dataframe tbody tr th:only-of-type {\n",
       "        vertical-align: middle;\n",
       "    }\n",
       "\n",
       "    .dataframe tbody tr th {\n",
       "        vertical-align: top;\n",
       "    }\n",
       "\n",
       "    .dataframe thead th {\n",
       "        text-align: right;\n",
       "    }\n",
       "</style>\n",
       "<table border=\"1\" class=\"dataframe\">\n",
       "  <thead>\n",
       "    <tr style=\"text-align: right;\">\n",
       "      <th></th>\n",
       "      <th>Model</th>\n",
       "      <th>Acc</th>\n",
       "      <th>Pre</th>\n",
       "      <th>Rec</th>\n",
       "    </tr>\n",
       "  </thead>\n",
       "  <tbody>\n",
       "    <tr>\n",
       "      <th>0</th>\n",
       "      <td>RF+SMOTE</td>\n",
       "      <td>0.892019</td>\n",
       "      <td>0.221154</td>\n",
       "      <td>0.2875</td>\n",
       "    </tr>\n",
       "    <tr>\n",
       "      <th>1</th>\n",
       "      <td>DT+SMOTE</td>\n",
       "      <td>0.778560</td>\n",
       "      <td>0.119850</td>\n",
       "      <td>0.4000</td>\n",
       "    </tr>\n",
       "    <tr>\n",
       "      <th>2</th>\n",
       "      <td>KNN+SMOTE</td>\n",
       "      <td>0.753521</td>\n",
       "      <td>0.153392</td>\n",
       "      <td>0.6500</td>\n",
       "    </tr>\n",
       "  </tbody>\n",
       "</table>\n",
       "</div>"
      ],
      "text/plain": [
       "       Model       Acc       Pre     Rec\n",
       "0   RF+SMOTE  0.892019  0.221154  0.2875\n",
       "1   DT+SMOTE  0.778560  0.119850  0.4000\n",
       "2  KNN+SMOTE  0.753521  0.153392  0.6500"
      ]
     },
     "execution_count": 109,
     "metadata": {},
     "output_type": "execute_result"
    }
   ],
   "source": [
    "res = pd.concat([res,res3])\n",
    "res"
   ]
  },
  {
   "cell_type": "code",
   "execution_count": 110,
   "id": "5f378263",
   "metadata": {},
   "outputs": [],
   "source": [
    "m5 = MultinomialNB()\n",
    "mnb_cm,mnb_cls_rep,mnb_acc,mnb_pre,mnb_rec = model_metrics2(m5,x_sm,x_test,y_sm,y_test)"
   ]
  },
  {
   "cell_type": "code",
   "execution_count": 111,
   "id": "23deb157",
   "metadata": {},
   "outputs": [
    {
     "data": {
      "text/html": [
       "<div>\n",
       "<style scoped>\n",
       "    .dataframe tbody tr th:only-of-type {\n",
       "        vertical-align: middle;\n",
       "    }\n",
       "\n",
       "    .dataframe tbody tr th {\n",
       "        vertical-align: top;\n",
       "    }\n",
       "\n",
       "    .dataframe thead th {\n",
       "        text-align: right;\n",
       "    }\n",
       "</style>\n",
       "<table border=\"1\" class=\"dataframe\">\n",
       "  <thead>\n",
       "    <tr style=\"text-align: right;\">\n",
       "      <th></th>\n",
       "      <th>Model</th>\n",
       "      <th>Acc</th>\n",
       "      <th>Pre</th>\n",
       "      <th>Rec</th>\n",
       "    </tr>\n",
       "  </thead>\n",
       "  <tbody>\n",
       "    <tr>\n",
       "      <th>3</th>\n",
       "      <td>MNB+SMOTE</td>\n",
       "      <td>0.683099</td>\n",
       "      <td>0.117647</td>\n",
       "      <td>0.625</td>\n",
       "    </tr>\n",
       "  </tbody>\n",
       "</table>\n",
       "</div>"
      ],
      "text/plain": [
       "       Model       Acc       Pre    Rec\n",
       "3  MNB+SMOTE  0.683099  0.117647  0.625"
      ]
     },
     "execution_count": 111,
     "metadata": {},
     "output_type": "execute_result"
    }
   ],
   "source": [
    "res4 = pd.DataFrame({'Model':'MNB+SMOTE','Acc':mnb_acc,'Pre':mnb_pre,'Rec':mnb_rec},index=[3])\n",
    "res4"
   ]
  },
  {
   "cell_type": "code",
   "execution_count": 112,
   "id": "856eb90e",
   "metadata": {},
   "outputs": [
    {
     "data": {
      "text/html": [
       "<div>\n",
       "<style scoped>\n",
       "    .dataframe tbody tr th:only-of-type {\n",
       "        vertical-align: middle;\n",
       "    }\n",
       "\n",
       "    .dataframe tbody tr th {\n",
       "        vertical-align: top;\n",
       "    }\n",
       "\n",
       "    .dataframe thead th {\n",
       "        text-align: right;\n",
       "    }\n",
       "</style>\n",
       "<table border=\"1\" class=\"dataframe\">\n",
       "  <thead>\n",
       "    <tr style=\"text-align: right;\">\n",
       "      <th></th>\n",
       "      <th>Model</th>\n",
       "      <th>Acc</th>\n",
       "      <th>Pre</th>\n",
       "      <th>Rec</th>\n",
       "    </tr>\n",
       "  </thead>\n",
       "  <tbody>\n",
       "    <tr>\n",
       "      <th>0</th>\n",
       "      <td>RF+SMOTE</td>\n",
       "      <td>0.892019</td>\n",
       "      <td>0.221154</td>\n",
       "      <td>0.2875</td>\n",
       "    </tr>\n",
       "    <tr>\n",
       "      <th>1</th>\n",
       "      <td>DT+SMOTE</td>\n",
       "      <td>0.778560</td>\n",
       "      <td>0.119850</td>\n",
       "      <td>0.4000</td>\n",
       "    </tr>\n",
       "    <tr>\n",
       "      <th>2</th>\n",
       "      <td>KNN+SMOTE</td>\n",
       "      <td>0.753521</td>\n",
       "      <td>0.153392</td>\n",
       "      <td>0.6500</td>\n",
       "    </tr>\n",
       "    <tr>\n",
       "      <th>3</th>\n",
       "      <td>MNB+SMOTE</td>\n",
       "      <td>0.683099</td>\n",
       "      <td>0.117647</td>\n",
       "      <td>0.6250</td>\n",
       "    </tr>\n",
       "  </tbody>\n",
       "</table>\n",
       "</div>"
      ],
      "text/plain": [
       "       Model       Acc       Pre     Rec\n",
       "0   RF+SMOTE  0.892019  0.221154  0.2875\n",
       "1   DT+SMOTE  0.778560  0.119850  0.4000\n",
       "2  KNN+SMOTE  0.753521  0.153392  0.6500\n",
       "3  MNB+SMOTE  0.683099  0.117647  0.6250"
      ]
     },
     "execution_count": 112,
     "metadata": {},
     "output_type": "execute_result"
    }
   ],
   "source": [
    "res = pd.concat([res,res4])\n",
    "res"
   ]
  },
  {
   "cell_type": "code",
   "execution_count": 113,
   "id": "0ed694c8",
   "metadata": {},
   "outputs": [],
   "source": [
    "res.to_csv('stroke_models_res.csv')"
   ]
  },
  {
   "cell_type": "code",
   "execution_count": null,
   "id": "9d0e8c0a",
   "metadata": {},
   "outputs": [],
   "source": []
  }
 ],
 "metadata": {
  "kernelspec": {
   "display_name": "Python 3",
   "language": "python",
   "name": "python3"
  },
  "language_info": {
   "codemirror_mode": {
    "name": "ipython",
    "version": 3
   },
   "file_extension": ".py",
   "mimetype": "text/x-python",
   "name": "python",
   "nbconvert_exporter": "python",
   "pygments_lexer": "ipython3",
   "version": "3.8.8"
  }
 },
 "nbformat": 4,
 "nbformat_minor": 5
}
