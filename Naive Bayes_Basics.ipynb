{
 "cells": [
  {
   "cell_type": "markdown",
   "id": "b5b78816",
   "metadata": {},
   "source": [
    "### Conditional Probability\n",
    "a) When we try to calculate probability on a condition, i.e. probability of happening of event A when event B has already taken place.\n",
    "\n",
    "b)\t<b>P(A|B) = P(AᲘB)/P(B) <br>\n",
    "for conditional probability of A given B has occurred</b>"
   ]
  },
  {
   "cell_type": "markdown",
   "id": "ac57968f",
   "metadata": {},
   "source": [
    "#### Q) There are 15 cards - 1,2,3,4,5,6,7,8,9,10,11,12,13,14,15 in a deck. A card is drawn at random, which is more than 6, find the probability that it is odd\n",
    "\n"
   ]
  },
  {
   "cell_type": "code",
   "execution_count": null,
   "id": "560421e8",
   "metadata": {},
   "outputs": [],
   "source": [
    "# SS = 15\n",
    "# A = prob of odd no = {1,3,5,7,9,11,13,15} => P(A) = 8/15\n",
    "# B = prob of num more than 6 = {7,8,9,10,11,12,13,14,15} = 9/15\n",
    "# AᲘB = {7,9,11,13,15} => P(AᲘB) = 5/15\n",
    "# P(A|B) = P(AᲘB)/P(B) = (5/15)/(9/15) = (1/3)/(3/5)"
   ]
  },
  {
   "cell_type": "markdown",
   "id": "4c653a77",
   "metadata": {},
   "source": [
    "### Bayes Theorem\n",
    "\n",
    "In probability theory, Bayes theorem describes probability of an event based on prior knowledge of conditions that might be related to the event\n",
    "Derivation<br>\n",
    "Bayes theorem is derived through conditional probability equation by equating P(A Ი B) of below mentioned equation 1 and equation 2\n",
    "\n",
    "P(A|B) = P(AᲘB)/P(B)          -- 1<br>\n",
    "P(B|A) = P(BᲘA)/P(A)          -- 2<br>\n",
    "We know that P(AᲘB) = P(BᲘA) <br>\n",
    "From equation 1 and 2, equating the expression for P(AᲘB), we get<br>\n",
    "=> P(A|B) * P(B) = P(B|A) * P(A)<br>\n",
    "=> P(A|B)  = (P(B|A) * P(A)) / P(B)<br>\n",
    "\n",
    "1) Bayes’ Theorem finds the probability of an event occurring given the probability of another event that has already occurred. Bayes’ theorem is stated mathematically as the following equation:<br>\n",
    "2) P(A|B) = Probability of A given that event B has already occurred.\n",
    "\n",
    " \n",
    "<img src=\"nb2.png\">\n",
    "where A and B are events and P(B)  ≠ 0.\n"
   ]
  },
  {
   "cell_type": "markdown",
   "id": "c7858204",
   "metadata": {},
   "source": [
    "### Naive Bayes\n",
    "1)\tNaive Bayes is a supervised learning algorithm used for classification based on Bayes’ Theorem. <br>\n",
    "2)\tNaive Bayes intuition - Every pair of features being classified is independent of each other.<br>\n",
    "3)\tThe fundamental Naïve Bayes assumption is that each feature makes an independent and equal contribution to the outcome.<br>\n",
    "4)\tThey are used in <b>text classification, sentiment analysis, spam filtering, email classification etc</b><br>\n",
    "\n",
    "### Why it is called Naive?\n",
    "Naive Bayes is called naive because it assumes that each input variable is independent. This is a strong assumption and unrealistic for most data; however, the technique is very effective on a certain kinds of problems like the ones mentioned above.\n"
   ]
  },
  {
   "cell_type": "markdown",
   "id": "4049b8aa",
   "metadata": {},
   "source": [
    "### Naive Bayes\n",
    "<img src=\"nb_derivation.png\">"
   ]
  },
  {
   "cell_type": "markdown",
   "id": "e277746a",
   "metadata": {},
   "source": [
    "where<br>\n",
    "$ P(y|x1,x2……,xn) = \\frac {(P(y)*P(x1,x2.......xn|y)} { P(x1,x2.......xn)} $\n",
    "                            \n",
    "is equivalent to <br>\n",
    "                            \n",
    "$ P(y|x1,x2……,xn) = \\frac {(P(y)*P(x1|y)*P(x2|y)*…….*P(xn|y)) } { P(x1)*P(x2)*……*P(xn)} $\n",
    "\n",
    "Dropping the denominator,it becomes<br>\n",
    "$ P(y|x1,x2……,xn) =  {(P(y)*P(x1|y)*P(x2|y)*…….*P(xn|y)) }  $"
   ]
  },
  {
   "cell_type": "markdown",
   "id": "d5c8d972",
   "metadata": {},
   "source": [
    "### Types of Naive Bayes Algorithms\n",
    "\n",
    "1) <b>Gaussian Naive Bayes</b>\n",
    "Used when all features are numerical and follows Normal distribution then Gaussian Naive bayes is used. \n",
    "<img src=\"gnb.png\">\n",
    "    \n",
    "    \n",
    "2) <b>Bernoulli Naive Bayes</b><br>\n",
    "BernoulliNB implements the naive Bayes training and classification algorithms for data that is distributed according to multivariate Bernoulli distributions; i.e., there may be multiple features but each one is assumed to be a binary-valued (Bernoulli, boolean) variable.<br>\n",
    "All the features are converted to binary format(Using Label_Encoder or get_dummies)\n",
    "    \n",
    "3) <b>Multinomial NB</b><br>\n",
    "It is one of the three classic Naive Bayes variants used in text classification.\n",
    "It can also be used when features contain catgorical data or a mixture of categorical and continuous features. Categorical(object data type) needs LabelEncoding. "
   ]
  },
  {
   "cell_type": "markdown",
   "id": "9ebe5fea",
   "metadata": {},
   "source": [
    "### How to Import Naive Bayes"
   ]
  },
  {
   "cell_type": "code",
   "execution_count": 13,
   "id": "7a4b604f",
   "metadata": {},
   "outputs": [],
   "source": [
    "from sklearn.naive_bayes import GaussianNB, BernoulliNB, MultinomialNB"
   ]
  },
  {
   "cell_type": "code",
   "execution_count": 15,
   "id": "a96e3a01",
   "metadata": {},
   "outputs": [],
   "source": [
    "m1 = MultinomialNB(alpha=0.7)\n",
    "m2 = GaussianNB()\n",
    "m3 = BernoulliNB()"
   ]
  },
  {
   "cell_type": "markdown",
   "id": "17acadc8",
   "metadata": {},
   "source": [
    "### Laplace/Lidstone Correction or Smoothing in Naive Bayes\n",
    "1) Laplace smoothing is a smoothing technique that handles the problem of zero probability in Naïve Bayes.<br>\n",
    "2) It is applied to MultiNomial NB<br>\n",
    "3) <b>Setting α=1,is called Laplace smoothing, while α<1 is called Lidstone smoothing.</b><br>\n",
    "    \n",
    "Laplace Smoothing<br>\n",
    "https://scikit-learn.org/stable/modules/naive_bayes.html    "
   ]
  },
  {
   "cell_type": "markdown",
   "id": "1e047918",
   "metadata": {},
   "source": [
    "###  Naive Bayes on Categorical Data\n",
    "<img src=\"nb_example.png\">\n",
    "\n",
    "Input Features = X1 and X2<br>\n",
    "Target Feature = Y\n",
    "#### Find P(Y | X1=B,X2=S) "
   ]
  },
  {
   "cell_type": "code",
   "execution_count": null,
   "id": "3f34a7b4",
   "metadata": {},
   "outputs": [],
   "source": [
    "# Y = [0,1]\n",
    "# X1 = [A,B,C]\n",
    "# X2 = [S,M,L]\n",
    "# P(Y=0) = 6/15, P(Y=1)=9/15\n",
    "# P(X1=A|Y=0) = 3/6, P(X1=B|Y=0) = 2/6,  P(X1=C|Y=0) = 1/6\n",
    "# P(X1=A|Y=1) = 2/9 ,P(X1=B|Y=1) = 3/9,  P(X1=C|Y=1) = 4/9\n",
    "\n",
    "# P(X2=S|Y=0) = 3/6, P(X2=M|Y=0) = 2/6, P(X2=L|Y=0) = 1/6\n",
    "# P(X2=S|Y=1) = 1/9, P(X2=M|Y=1) = 4/9, P(X2=L|Y=1) = 4/9\n"
   ]
  },
  {
   "cell_type": "code",
   "execution_count": null,
   "id": "a53027c1",
   "metadata": {},
   "outputs": [],
   "source": [
    "# P(Y=0|X1=B,X2=S) = P(Y=0)*P(X1=B|Y=0)*P(X2=S|Y=0) = \n",
    "#                  = (6/15)*(2/6)*(3/6) = 0.06666666666666667\n",
    "# P(Y=1|X1=B,X2=S) = P(Y=1)*P(X1=B|Y=1)*P(X2=S|Y=1) = \n",
    "#                  = (9/15)*(3/9)*(1/9) = 0.02222222222222222\n",
    "# np.argmax(0.06666666666666667,0.02222222222222222) = 0"
   ]
  },
  {
   "cell_type": "code",
   "execution_count": 2,
   "id": "5eff7f5b",
   "metadata": {},
   "outputs": [
    {
     "name": "stdout",
     "output_type": "stream",
     "text": [
      "0.06666666666666667\n",
      "0.02222222222222222\n"
     ]
    }
   ],
   "source": [
    "print((6/15)*(2/6)*(3/6))\n",
    "print((9/15)*(3/9)*(1/9))"
   ]
  },
  {
   "cell_type": "code",
   "execution_count": 3,
   "id": "9c76d0f2",
   "metadata": {},
   "outputs": [],
   "source": [
    "import numpy as np"
   ]
  },
  {
   "cell_type": "code",
   "execution_count": 9,
   "id": "fca800d2",
   "metadata": {},
   "outputs": [
    {
     "name": "stdout",
     "output_type": "stream",
     "text": [
      "[13 13  6  8  6 15  9]\n"
     ]
    }
   ],
   "source": [
    "a = np.random.randint(2,20,7)\n",
    "print(a)"
   ]
  },
  {
   "cell_type": "code",
   "execution_count": 12,
   "id": "71fcd8b9",
   "metadata": {},
   "outputs": [
    {
     "name": "stdout",
     "output_type": "stream",
     "text": [
      "2\n"
     ]
    }
   ],
   "source": [
    "res = np.argmin(a)\n",
    "print(res)"
   ]
  },
  {
   "cell_type": "code",
   "execution_count": null,
   "id": "c3c85ef7",
   "metadata": {},
   "outputs": [],
   "source": []
  },
  {
   "cell_type": "markdown",
   "id": "ec89f444",
   "metadata": {},
   "source": [
    "### Naive Bayes on Continuous Data"
   ]
  },
  {
   "cell_type": "code",
   "execution_count": 16,
   "id": "17743bd6",
   "metadata": {},
   "outputs": [],
   "source": [
    "import numpy as np\n",
    "import pandas as pd"
   ]
  },
  {
   "cell_type": "code",
   "execution_count": 20,
   "id": "da81cc15",
   "metadata": {},
   "outputs": [
    {
     "data": {
      "text/html": [
       "<div>\n",
       "<style scoped>\n",
       "    .dataframe tbody tr th:only-of-type {\n",
       "        vertical-align: middle;\n",
       "    }\n",
       "\n",
       "    .dataframe tbody tr th {\n",
       "        vertical-align: top;\n",
       "    }\n",
       "\n",
       "    .dataframe thead th {\n",
       "        text-align: right;\n",
       "    }\n",
       "</style>\n",
       "<table border=\"1\" class=\"dataframe\">\n",
       "  <thead>\n",
       "    <tr style=\"text-align: right;\">\n",
       "      <th></th>\n",
       "      <th>x1</th>\n",
       "      <th>y</th>\n",
       "    </tr>\n",
       "  </thead>\n",
       "  <tbody>\n",
       "    <tr>\n",
       "      <th>0</th>\n",
       "      <td>60</td>\n",
       "      <td>1</td>\n",
       "    </tr>\n",
       "    <tr>\n",
       "      <th>1</th>\n",
       "      <td>79</td>\n",
       "      <td>0</td>\n",
       "    </tr>\n",
       "    <tr>\n",
       "      <th>2</th>\n",
       "      <td>42</td>\n",
       "      <td>0</td>\n",
       "    </tr>\n",
       "    <tr>\n",
       "      <th>3</th>\n",
       "      <td>49</td>\n",
       "      <td>1</td>\n",
       "    </tr>\n",
       "    <tr>\n",
       "      <th>4</th>\n",
       "      <td>32</td>\n",
       "      <td>1</td>\n",
       "    </tr>\n",
       "    <tr>\n",
       "      <th>5</th>\n",
       "      <td>63</td>\n",
       "      <td>0</td>\n",
       "    </tr>\n",
       "    <tr>\n",
       "      <th>6</th>\n",
       "      <td>49</td>\n",
       "      <td>1</td>\n",
       "    </tr>\n",
       "    <tr>\n",
       "      <th>7</th>\n",
       "      <td>24</td>\n",
       "      <td>0</td>\n",
       "    </tr>\n",
       "    <tr>\n",
       "      <th>8</th>\n",
       "      <td>53</td>\n",
       "      <td>0</td>\n",
       "    </tr>\n",
       "    <tr>\n",
       "      <th>9</th>\n",
       "      <td>72</td>\n",
       "      <td>0</td>\n",
       "    </tr>\n",
       "    <tr>\n",
       "      <th>10</th>\n",
       "      <td>56</td>\n",
       "      <td>1</td>\n",
       "    </tr>\n",
       "    <tr>\n",
       "      <th>11</th>\n",
       "      <td>36</td>\n",
       "      <td>1</td>\n",
       "    </tr>\n",
       "    <tr>\n",
       "      <th>12</th>\n",
       "      <td>54</td>\n",
       "      <td>0</td>\n",
       "    </tr>\n",
       "    <tr>\n",
       "      <th>13</th>\n",
       "      <td>43</td>\n",
       "      <td>0</td>\n",
       "    </tr>\n",
       "    <tr>\n",
       "      <th>14</th>\n",
       "      <td>60</td>\n",
       "      <td>1</td>\n",
       "    </tr>\n",
       "  </tbody>\n",
       "</table>\n",
       "</div>"
      ],
      "text/plain": [
       "    x1  y\n",
       "0   60  1\n",
       "1   79  0\n",
       "2   42  0\n",
       "3   49  1\n",
       "4   32  1\n",
       "5   63  0\n",
       "6   49  1\n",
       "7   24  0\n",
       "8   53  0\n",
       "9   72  0\n",
       "10  56  1\n",
       "11  36  1\n",
       "12  54  0\n",
       "13  43  0\n",
       "14  60  1"
      ]
     },
     "execution_count": 20,
     "metadata": {},
     "output_type": "execute_result"
    }
   ],
   "source": [
    "data = {'x1': np.random.randint(20,80,15),\n",
    "        'y': np.random.choice([0,1],size=15)}\n",
    "df = pd.DataFrame(data)\n",
    "df"
   ]
  },
  {
   "cell_type": "code",
   "execution_count": 21,
   "id": "603d1cdb",
   "metadata": {},
   "outputs": [
    {
     "name": "stdout",
     "output_type": "stream",
     "text": [
      "(8, 2)\n",
      "(7, 2)\n"
     ]
    }
   ],
   "source": [
    "df0 = df[df['y']==0]\n",
    "df1 = df[df['y']==1]\n",
    "print(df0.shape)\n",
    "print(df1.shape)"
   ]
  },
  {
   "cell_type": "code",
   "execution_count": 22,
   "id": "5535e1f9",
   "metadata": {},
   "outputs": [
    {
     "name": "stdout",
     "output_type": "stream",
     "text": [
      "x0_mean 53.75\n",
      "x0_std 17.70996491083077\n",
      "x1_mean 48.857142857142854\n",
      "x1_std 11.17181828573683\n"
     ]
    }
   ],
   "source": [
    "x0_mean = df0['x1'].mean()\n",
    "x0_std = df0['x1'].std()\n",
    "x1_mean = df1['x1'].mean()\n",
    "x1_std = df1['x1'].std()\n",
    "print('x0_mean',x0_mean)\n",
    "print('x0_std',x0_std)\n",
    "print('x1_mean',x1_mean)\n",
    "print('x1_std',x1_std)"
   ]
  },
  {
   "cell_type": "markdown",
   "id": "ae19feef",
   "metadata": {},
   "source": [
    "<img src=\"gnb.png\">"
   ]
  },
  {
   "cell_type": "code",
   "execution_count": null,
   "id": "756cc78c",
   "metadata": {},
   "outputs": [],
   "source": [
    "# P(Y|X1=45) = ? => res [0,1] \n",
    "\n",
    "# P(X=45|Y=0) => x0_mean, x0_std, x=45, \n",
    "# P(Y=0) = 8/15\n",
    "# P(X=45|Y=1) => x1_mean, x1_std, x=45\n",
    "# P(Y=1) = 7/15\n",
    "\n",
    "# P(Y=0|X1=45) = P(Y=0)* P(X=45|Y=0)\n",
    "# P(Y=1|X1=45) = P(Y=1)* P(X=45|Y=1)\n",
    "\n",
    "# np.argmax([P(Y=0|X1=45),P(Y=1|X1=45)])"
   ]
  },
  {
   "cell_type": "code",
   "execution_count": null,
   "id": "a7fdc8b1",
   "metadata": {},
   "outputs": [],
   "source": []
  },
  {
   "cell_type": "code",
   "execution_count": null,
   "id": "24c3d2e3",
   "metadata": {},
   "outputs": [],
   "source": []
  },
  {
   "cell_type": "code",
   "execution_count": null,
   "id": "ba4c9012",
   "metadata": {},
   "outputs": [],
   "source": []
  }
 ],
 "metadata": {
  "kernelspec": {
   "display_name": "Python 3",
   "language": "python",
   "name": "python3"
  },
  "language_info": {
   "codemirror_mode": {
    "name": "ipython",
    "version": 3
   },
   "file_extension": ".py",
   "mimetype": "text/x-python",
   "name": "python",
   "nbconvert_exporter": "python",
   "pygments_lexer": "ipython3",
   "version": "3.8.8"
  }
 },
 "nbformat": 4,
 "nbformat_minor": 5
}
